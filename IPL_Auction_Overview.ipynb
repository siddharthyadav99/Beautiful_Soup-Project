{
 "cells": [
  {
   "cell_type": "code",
   "execution_count": 5,
   "metadata": {},
   "outputs": [],
   "source": [
    "import pandas as pd\n",
    "from bs4 import BeautifulSoup\n",
    "import requests"
   ]
  },
  {
   "cell_type": "code",
   "execution_count": 6,
   "metadata": {},
   "outputs": [],
   "source": [
    "# URL for the IPL auction page\n",
    "url = \"https://www.iplt20.com/auction/2022\""
   ]
  },
  {
   "cell_type": "code",
   "execution_count": 7,
   "metadata": {},
   "outputs": [],
   "source": [
    "# Fetch the webpage\n",
    "response = requests.get(url)"
   ]
  },
  {
   "cell_type": "code",
   "execution_count": 8,
   "metadata": {},
   "outputs": [],
   "source": [
    "# Parse the page content\n",
    "soup = BeautifulSoup(response.text, \"lxml\")"
   ]
  },
  {
   "cell_type": "code",
   "execution_count": 9,
   "metadata": {},
   "outputs": [
    {
     "name": "stdout",
     "output_type": "stream",
     "text": [
      "<table class=\"ih-td-tab auction-tbl\" width=\"100%\">\n",
      "<tr class=\"ih-pt-tbl\" style=\"display:revert\">\n",
      "<th class=\"skip-filter\" style=\"width:25%;text-align: left;\">SR. NO.</th>\n",
      "<th class=\"skip-filter\" style=\"width:25%;text-align: left;\">TEAM</th>\n",
      "<th class=\"skip-filter\" style=\"width:25%;\">FUNDS REMAINING</th>\n",
      "<th class=\"skip-filter\" style=\"width:25%;\">OVERSEAS PLAYERS </th>\n",
      "<th class=\"skip-filter\" style=\"width:25%;\">TOTAL PLAYERS</th>\n",
      "</tr>\n",
      "<tbody id=\"pointsdata\">\n",
      "<tr>\n",
      "<td>1</td>\n",
      "<td class=\"ih-t-color\">\n",
      "<div class=\"ih-pt-ic\">\n",
      "<div class=\"ih-pt-img\" style=\"width: 60px\">\n",
      "<img alt=\"\" src=\"https://documents.iplt20.com/ipl/franchises/1644311961_CSKroundbig.png\"/>\n",
      "</div>\n",
      "<h2 class=\"ih-pt-cont\">Chennai Super Kings</h2>\n",
      "</div>\n",
      "</td>\n",
      "<td>₹2,95,00,000</td>\n",
      "<td>8</td>\n",
      "<td>25</td>\n",
      "</tr>\n",
      "<tr>\n",
      "<td>2</td>\n",
      "<td class=\"ih-t-color\">\n",
      "<div class=\"ih-pt-ic\">\n",
      "<div class=\"ih-pt-img\" style=\"width: 60px\">\n",
      "<img alt=\"\" src=\"https://documents.iplt20.com/ipl/franchises/1644312373_DCroundbig.png\"/>\n",
      "</div>\n",
      "<h2 class=\"ih-pt-cont\">Delhi Capitals</h2>\n",
      "</div>\n",
      "</td>\n",
      "<td>₹10,00,000</td>\n",
      "<td>7</td>\n",
      "<td>24</td>\n",
      "</tr>\n",
      "<tr>\n",
      "<td>3</td>\n",
      "<td class=\"ih-t-color\">\n",
      "<div class=\"ih-pt-ic\">\n",
      "<div class=\"ih-pt-img\" style=\"width: 60px\">\n",
      "<img alt=\"\" src=\"https://documents.iplt20.com/ipl/franchises/1645712208_GTroundbig.png\"/>\n",
      "</div>\n",
      "<h2 class=\"ih-pt-cont\">Gujarat Titans</h2>\n",
      "</div>\n",
      "</td>\n",
      "<td>₹15,00,000</td>\n",
      "<td>8</td>\n",
      "<td>23</td>\n",
      "</tr>\n",
      "<tr>\n",
      "<td>4</td>\n",
      "<td class=\"ih-t-color\">\n",
      "<div class=\"ih-pt-ic\">\n",
      "<div class=\"ih-pt-img\" style=\"width: 60px\">\n",
      "<img alt=\"\" src=\"https://documents.iplt20.com/ipl/franchises/1644312095_KKRroundbig.png\"/>\n",
      "</div>\n",
      "<h2 class=\"ih-pt-cont\">Kolkata Knight Riders</h2>\n",
      "</div>\n",
      "</td>\n",
      "<td>₹45,00,000</td>\n",
      "<td>8</td>\n",
      "<td>25</td>\n",
      "</tr>\n",
      "<tr>\n",
      "<td>5</td>\n",
      "<td class=\"ih-t-color\">\n",
      "<div class=\"ih-pt-ic\">\n",
      "<div class=\"ih-pt-img\" style=\"width: 60px\">\n",
      "<img alt=\"\" src=\"https://documents.iplt20.com/ipl/franchises/1644487352_lsgrounding.png\"/>\n",
      "</div>\n",
      "<h2 class=\"ih-pt-cont\">Lucknow Super Giants</h2>\n",
      "</div>\n",
      "</td>\n",
      "<td>₹0</td>\n",
      "<td>7</td>\n",
      "<td>21</td>\n",
      "</tr>\n",
      "<tr>\n",
      "<td>6</td>\n",
      "<td class=\"ih-t-color\">\n",
      "<div class=\"ih-pt-ic\">\n",
      "<div class=\"ih-pt-img\" style=\"width: 60px\">\n",
      "<img alt=\"\" src=\"https://documents.iplt20.com/ipl/franchises/1644312227_MIroundbig.png\"/>\n",
      "</div>\n",
      "<h2 class=\"ih-pt-cont\">Mumbai Indians</h2>\n",
      "</div>\n",
      "</td>\n",
      "<td>₹10,00,000</td>\n",
      "<td>8</td>\n",
      "<td>25</td>\n",
      "</tr>\n",
      "<tr>\n",
      "<td>7</td>\n",
      "<td class=\"ih-t-color\">\n",
      "<div class=\"ih-pt-ic\">\n",
      "<div class=\"ih-pt-img\" style=\"width: 60px\">\n",
      "<img alt=\"\" src=\"https://documents.iplt20.com/ipl/franchises/1644312239_PBKSroundbig.png\"/>\n",
      "</div>\n",
      "<h2 class=\"ih-pt-cont\">Punjab Kings</h2>\n",
      "</div>\n",
      "</td>\n",
      "<td>₹3,45,00,000</td>\n",
      "<td>7</td>\n",
      "<td>25</td>\n",
      "</tr>\n",
      "<tr>\n",
      "<td>8</td>\n",
      "<td class=\"ih-t-color\">\n",
      "<div class=\"ih-pt-ic\">\n",
      "<div class=\"ih-pt-img\" style=\"width: 60px\">\n",
      "<img alt=\"\" src=\"https://documents.iplt20.com/ipl/franchises/1644312268_RRroundbig.png\"/>\n",
      "</div>\n",
      "<h2 class=\"ih-pt-cont\">Rajasthan Royals</h2>\n",
      "</div>\n",
      "</td>\n",
      "<td>₹95,00,000</td>\n",
      "<td>8</td>\n",
      "<td>24</td>\n",
      "</tr>\n",
      "<tr>\n",
      "<td>9</td>\n",
      "<td class=\"ih-t-color\">\n",
      "<div class=\"ih-pt-ic\">\n",
      "<div class=\"ih-pt-img\" style=\"width: 60px\">\n",
      "<img alt=\"\" src=\"https://documents.iplt20.com/ipl/franchises/1644312253_RCBroundbig.png\"/>\n",
      "</div>\n",
      "<h2 class=\"ih-pt-cont\">Royal Challengers Bangalore</h2>\n",
      "</div>\n",
      "</td>\n",
      "<td>₹1,55,00,000</td>\n",
      "<td>8</td>\n",
      "<td>22</td>\n",
      "</tr>\n",
      "<tr>\n",
      "<td>10</td>\n",
      "<td class=\"ih-t-color\">\n",
      "<div class=\"ih-pt-ic\">\n",
      "<div class=\"ih-pt-img\" style=\"width: 60px\">\n",
      "<img alt=\"\" src=\"https://documents.iplt20.com/ipl/franchises/1644312281_SRHroundbig.png\"/>\n",
      "</div>\n",
      "<h2 class=\"ih-pt-cont\">Sunrisers Hyderabad</h2>\n",
      "</div>\n",
      "</td>\n",
      "<td>₹10,00,000</td>\n",
      "<td>8</td>\n",
      "<td>23</td>\n",
      "</tr>\n",
      "</tbody>\n",
      "</table>\n"
     ]
    }
   ],
   "source": [
    "# Locate the table\n",
    "table = soup.find(\"table\", class_=\"ih-td-tab auction-tbl\")\n",
    "print(table)"
   ]
  },
  {
   "cell_type": "code",
   "execution_count": 10,
   "metadata": {},
   "outputs": [
    {
     "name": "stdout",
     "output_type": "stream",
     "text": [
      "['SR. NO.', 'TEAM', 'FUNDS REMAINING', 'OVERSEAS PLAYERS', 'TOTAL PLAYERS']\n"
     ]
    }
   ],
   "source": [
    "# Extract headers\n",
    "header = table.find_all(\"th\")\n",
    "headers = [th.text.strip() for th in header if th.text.strip()]\n",
    "print(headers)"
   ]
  },
  {
   "cell_type": "code",
   "execution_count": 11,
   "metadata": {},
   "outputs": [],
   "source": [
    "# Create DataFrame with headers\n",
    "df = pd.DataFrame(columns=headers)"
   ]
  },
  {
   "cell_type": "code",
   "execution_count": 12,
   "metadata": {},
   "outputs": [
    {
     "data": {
      "text/html": [
       "<div>\n",
       "<style scoped>\n",
       "    .dataframe tbody tr th:only-of-type {\n",
       "        vertical-align: middle;\n",
       "    }\n",
       "\n",
       "    .dataframe tbody tr th {\n",
       "        vertical-align: top;\n",
       "    }\n",
       "\n",
       "    .dataframe thead th {\n",
       "        text-align: right;\n",
       "    }\n",
       "</style>\n",
       "<table border=\"1\" class=\"dataframe\">\n",
       "  <thead>\n",
       "    <tr style=\"text-align: right;\">\n",
       "      <th></th>\n",
       "      <th>SR. NO.</th>\n",
       "      <th>TEAM</th>\n",
       "      <th>FUNDS REMAINING</th>\n",
       "      <th>OVERSEAS PLAYERS</th>\n",
       "      <th>TOTAL PLAYERS</th>\n",
       "    </tr>\n",
       "  </thead>\n",
       "  <tbody>\n",
       "  </tbody>\n",
       "</table>\n",
       "</div>"
      ],
      "text/plain": [
       "Empty DataFrame\n",
       "Columns: [SR. NO., TEAM, FUNDS REMAINING, OVERSEAS PLAYERS, TOTAL PLAYERS]\n",
       "Index: []"
      ]
     },
     "execution_count": 12,
     "metadata": {},
     "output_type": "execute_result"
    }
   ],
   "source": [
    "df"
   ]
  },
  {
   "cell_type": "code",
   "execution_count": 17,
   "metadata": {},
   "outputs": [],
   "source": [
    "# Extract rows from the table\n",
    "rows = table.find_all(\"tr\")\n",
    "# print(rows)"
   ]
  },
  {
   "cell_type": "code",
   "execution_count": 14,
   "metadata": {},
   "outputs": [],
   "source": [
    "for x in rows[1:]:\n",
    "    data = x.find_all(\"td\")   # Extract cell data\n",
    "    row = [td.text.strip().replace('â‚¹', '₹') for td in data]  # Replace incorrect symbol\n",
    "    df.loc[len(df)] = row"
   ]
  },
  {
   "cell_type": "code",
   "execution_count": 15,
   "metadata": {},
   "outputs": [
    {
     "name": "stdout",
     "output_type": "stream",
     "text": [
      "CSV file created successfully!\n"
     ]
    }
   ],
   "source": [
    "# Save to CSV with UTF-8 encoding\n",
    "df.to_csv(\"IPL_Auction_2022_Overview.csv\", index=False, encoding='utf-8-sig')\n",
    "\n",
    "print(\"CSV file created successfully!\")"
   ]
  }
 ],
 "metadata": {
  "kernelspec": {
   "display_name": "Python 3",
   "language": "python",
   "name": "python3"
  },
  "language_info": {
   "codemirror_mode": {
    "name": "ipython",
    "version": 3
   },
   "file_extension": ".py",
   "mimetype": "text/x-python",
   "name": "python",
   "nbconvert_exporter": "python",
   "pygments_lexer": "ipython3",
   "version": "3.11.4"
  }
 },
 "nbformat": 4,
 "nbformat_minor": 2
}
